{
 "cells": [
  {
   "cell_type": "code",
   "execution_count": 3,
   "id": "6f2b691c-81eb-445b-b1b9-9b35fb34df12",
   "metadata": {},
   "outputs": [],
   "source": [
    "import numpy as np\n",
    "import pandas as pd\n",
    "from DataPreprocessing import * \n",
    "import matplotlib.pyplot as plt\n",
    "%matplotlib inline\n",
    "import seaborn as sn\n",
    "from sklearn.ensemble import RandomForestClassifier as RFC\n",
    "\n"
   ]
  },
  {
   "cell_type": "code",
   "execution_count": null,
   "id": "c2cc3a17-dbc1-4e56-a7af-4f292760e23c",
   "metadata": {},
   "outputs": [],
   "source": [
    "#crit = ['gini', 'entropy']\n",
    "#max_features = ['auto' , 'sqrt' , 'log2']"
   ]
  },
  {
   "cell_type": "code",
   "execution_count": null,
   "id": "f5a2d4ca-f8f6-49e2-8558-9133afa97835",
   "metadata": {},
   "outputs": [],
   "source": [
    "'''\n",
    "print(' Criterion ' + ' max_features '+' Train Score ' + ' Test Score')\n",
    "for i in crit:\n",
    "    for j in max_features:\n",
    "        temp_rf = RFC(n_estimators = 100, criterion = i, max_features = j)\n",
    "        temp_rf.fit(x_train,y_train)\n",
    "        temp_y_pred = temp_rf.predict(x_test)\n",
    "        train_score=temp_rf.score(x_train,y_train)\n",
    "        test_score=temp_rf.score(x_test,y_test)\n",
    "        print(i,j,train_score,test_score)\n",
    "'''"
   ]
  },
  {
   "cell_type": "markdown",
   "id": "ed5497e8-a225-4100-9888-cadde9ede1ff",
   "metadata": {},
   "source": [
    "> Accuracy is best with Gini Index and log2 max_features"
   ]
  },
  {
   "cell_type": "code",
   "execution_count": 6,
   "id": "bc2f7394-3351-415b-87a0-c8ffde9d569e",
   "metadata": {},
   "outputs": [],
   "source": [
    "gini_rd_frst = RFC(n_estimators = 100, criterion = 'gini', max_features = 'log2')"
   ]
  },
  {
   "cell_type": "code",
   "execution_count": 7,
   "id": "df99d003-129e-4743-b6e7-a6f4f13a4c85",
   "metadata": {},
   "outputs": [
    {
     "data": {
      "text/plain": [
       "RandomForestClassifier(max_features='log2')"
      ]
     },
     "execution_count": 7,
     "metadata": {},
     "output_type": "execute_result"
    }
   ],
   "source": [
    "gini_rd_frst.fit(x_train, y_train)"
   ]
  },
  {
   "cell_type": "code",
   "execution_count": 11,
   "id": "0a3e3be2-d757-4dd0-9222-d4cdb189b955",
   "metadata": {},
   "outputs": [],
   "source": [
    "gini_rd_frst_y_pred = gini_rd_frst.predict(x_test)"
   ]
  },
  {
   "cell_type": "code",
   "execution_count": 9,
   "id": "74c75186-4efe-4fb5-b066-fbc5c26a798b",
   "metadata": {},
   "outputs": [],
   "source": [
    "from sklearn.metrics import confusion_matrix,classification_report,accuracy_score"
   ]
  },
  {
   "cell_type": "code",
   "execution_count": 14,
   "id": "a11e51f2-9a13-4db8-ac9d-1657be937328",
   "metadata": {},
   "outputs": [],
   "source": [
    "gini_rd_frst_ac = accuracy_score(gini_rd_frst_y_pred,y_test)"
   ]
  },
  {
   "cell_type": "code",
   "execution_count": 16,
   "id": "f5d1ce65-cff3-467c-8729-a2cb29c198e2",
   "metadata": {},
   "outputs": [
    {
     "data": {
      "text/plain": [
       "0.810909373060211"
      ]
     },
     "execution_count": 16,
     "metadata": {},
     "output_type": "execute_result"
    }
   ],
   "source": [
    "gini_rd_frst_ac"
   ]
  },
  {
   "cell_type": "code",
   "execution_count": null,
   "id": "b01a9633-71e2-4ad1-a5c9-5ee77c28609f",
   "metadata": {},
   "outputs": [],
   "source": []
  }
 ],
 "metadata": {
  "kernelspec": {
   "display_name": "Python 3 (ipykernel)",
   "language": "python",
   "name": "python3"
  },
  "language_info": {
   "codemirror_mode": {
    "name": "ipython",
    "version": 3
   },
   "file_extension": ".py",
   "mimetype": "text/x-python",
   "name": "python",
   "nbconvert_exporter": "python",
   "pygments_lexer": "ipython3",
   "version": "3.9.10"
  }
 },
 "nbformat": 4,
 "nbformat_minor": 5
}
