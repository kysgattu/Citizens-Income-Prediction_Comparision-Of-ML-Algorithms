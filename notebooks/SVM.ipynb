{
 "cells": [
  {
   "cell_type": "code",
   "execution_count": 1,
   "id": "7208692c",
   "metadata": {},
   "outputs": [],
   "source": [
    "import numpy as np\n",
    "import pandas as pd\n",
    "from DataPreprocessing import * \n",
    "import matplotlib.pyplot as plt\n",
    "%matplotlib inline\n",
    "import seaborn as sn\n",
    "from sklearn.svm import SVC"
   ]
  },
  {
   "cell_type": "code",
   "execution_count": null,
   "id": "de7c96ee-ac9b-4fdb-9b6e-3019450e07f1",
   "metadata": {},
   "outputs": [],
   "source": [
    "#kernels = ['linear', 'poly', 'rbf', 'sigmoid']"
   ]
  },
  {
   "cell_type": "code",
   "execution_count": null,
   "id": "97a90b7f-5db9-4c1b-b676-95bbaa3c014e",
   "metadata": {},
   "outputs": [],
   "source": [
    "'''\n",
    "print(' Kernel ' + ' Train Score ' + ' Test Score')\n",
    "for k in kernels:\n",
    "    temp_svm = SVC(kernel = k)\n",
    "    temp_svm.fit(x_train,y_train)\n",
    "    temp_y_pred = temp_svm.predict(x_test)\n",
    "    train_score=temp_svm.score(x_train,y_train)\n",
    "    test_score=temp_svm.score(x_test,y_test)\n",
    "    print(k,train_score,test_score)\n",
    "'''"
   ]
  },
  {
   "cell_type": "markdown",
   "id": "cef4b3a9",
   "metadata": {},
   "source": [
    "> Polynomial Kernel has the best Scores, Hence we decide to use Polynomial Kernel for training the model"
   ]
  },
  {
   "cell_type": "code",
   "execution_count": 4,
   "id": "762904ce",
   "metadata": {},
   "outputs": [],
   "source": [
    "svm_poly_model = SVC(kernel = 'poly')"
   ]
  },
  {
   "cell_type": "code",
   "execution_count": 5,
   "id": "8380ead5",
   "metadata": {},
   "outputs": [
    {
     "data": {
      "text/plain": [
       "SVC(kernel='poly')"
      ]
     },
     "execution_count": 5,
     "metadata": {},
     "output_type": "execute_result"
    }
   ],
   "source": [
    "svm_poly_model.fit(x_train, y_train)"
   ]
  },
  {
   "cell_type": "code",
   "execution_count": 6,
   "id": "38f35823",
   "metadata": {},
   "outputs": [],
   "source": [
    "svm_poly_pred = svm_poly_model.predict(x_test)"
   ]
  },
  {
   "cell_type": "code",
   "execution_count": 7,
   "id": "837ec58c",
   "metadata": {},
   "outputs": [],
   "source": [
    "from sklearn.metrics import confusion_matrix,classification_report,accuracy_score"
   ]
  },
  {
   "cell_type": "code",
   "execution_count": 10,
   "id": "8fadb1cf",
   "metadata": {},
   "outputs": [],
   "source": [
    "svm_ac = accuracy_score(svm_poly_pred,y_test)"
   ]
  },
  {
   "cell_type": "code",
   "execution_count": 11,
   "id": "b38ee4e9",
   "metadata": {},
   "outputs": [
    {
     "data": {
      "text/plain": [
       "0.8004345127250155"
      ]
     },
     "execution_count": 11,
     "metadata": {},
     "output_type": "execute_result"
    }
   ],
   "source": [
    "svm_ac"
   ]
  },
  {
   "cell_type": "code",
   "execution_count": null,
   "id": "8d8bbae3",
   "metadata": {},
   "outputs": [],
   "source": []
  }
 ],
 "metadata": {
  "kernelspec": {
   "display_name": "Python 3 (ipykernel)",
   "language": "python",
   "name": "python3"
  },
  "language_info": {
   "codemirror_mode": {
    "name": "ipython",
    "version": 3
   },
   "file_extension": ".py",
   "mimetype": "text/x-python",
   "name": "python",
   "nbconvert_exporter": "python",
   "pygments_lexer": "ipython3",
   "version": "3.9.10"
  }
 },
 "nbformat": 4,
 "nbformat_minor": 5
}
