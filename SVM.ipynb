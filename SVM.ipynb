{
 "cells": [
  {
   "cell_type": "markdown",
   "id": "d86d0cf2",
   "metadata": {},
   "source": [
    "## importing libraries"
   ]
  },
  {
   "cell_type": "code",
   "execution_count": 1,
   "id": "7208692c",
   "metadata": {},
   "outputs": [],
   "source": [
    "import numpy as np\n",
    "import pandas as pd\n",
    "from DataPreprocessing import * \n",
    "import matplotlib.pyplot as plt\n",
    "%matplotlib inline\n",
    "import seaborn as sn\n",
    "from sklearn.svm import SVC"
   ]
  },
  {
   "cell_type": "code",
   "execution_count": 2,
   "id": "de7c96ee-ac9b-4fdb-9b6e-3019450e07f1",
   "metadata": {},
   "outputs": [],
   "source": [
    "#defining the kernels defined in scikit-learn\n",
    "kernels = ['linear', 'poly', 'rbf', 'sigmoid']"
   ]
  },
  {
   "cell_type": "code",
   "execution_count": 3,
   "id": "97a90b7f-5db9-4c1b-b676-95bbaa3c014e",
   "metadata": {},
   "outputs": [
    {
     "name": "stdout",
     "output_type": "stream",
     "text": [
      " Kernel  Train Score  Test Score\n",
      "linear 0.7947259909550413 0.800667287399131\n",
      "poly 0.7994479914870977 0.8028398510242085\n",
      "rbf 0.7953578079276403 0.8000465549348231\n",
      "sigmoid 0.522512636339452 0.5273898199875854\n"
     ]
    }
   ],
   "source": [
    "# creating temporary models with all available kernels and analysing train and test scores\n",
    "print(' Kernel ' + ' Train Score ' + ' Test Score')\n",
    "for k in kernels:\n",
    "    temp_svm = SVC(kernel = k)\n",
    "    temp_svm.fit(x_train,y_train)\n",
    "    temp_y_pred = temp_svm.predict(x_test)\n",
    "    train_score=temp_svm.score(x_train,y_train)\n",
    "    test_score=temp_svm.score(x_test,y_test)\n",
    "    print(k,train_score,test_score)"
   ]
  },
  {
   "cell_type": "markdown",
   "id": "cef4b3a9",
   "metadata": {},
   "source": [
    "> Polynomial Kernel has the best Scores, Hence we decide to use Polynomial Kernel for training the model"
   ]
  },
  {
   "cell_type": "markdown",
   "id": "8f406989",
   "metadata": {},
   "source": [
    "### Training the model with polynomial kernel and test the model"
   ]
  },
  {
   "cell_type": "code",
   "execution_count": 4,
   "id": "762904ce",
   "metadata": {},
   "outputs": [],
   "source": [
    "svm_poly_model = SVC(kernel = 'poly')"
   ]
  },
  {
   "cell_type": "code",
   "execution_count": 5,
   "id": "8380ead5",
   "metadata": {},
   "outputs": [
    {
     "data": {
      "text/plain": [
       "SVC(kernel='poly')"
      ]
     },
     "execution_count": 5,
     "metadata": {},
     "output_type": "execute_result"
    }
   ],
   "source": [
    "svm_poly_model.fit(x_train, y_train)"
   ]
  },
  {
   "cell_type": "code",
   "execution_count": 6,
   "id": "38f35823",
   "metadata": {},
   "outputs": [],
   "source": [
    "svm_poly_pred = svm_poly_model.predict(x_test)"
   ]
  },
  {
   "cell_type": "code",
   "execution_count": 7,
   "id": "837ec58c",
   "metadata": {},
   "outputs": [],
   "source": [
    "from sklearn.metrics import confusion_matrix,classification_report,accuracy_score"
   ]
  },
  {
   "cell_type": "code",
   "execution_count": 8,
   "id": "8fadb1cf",
   "metadata": {},
   "outputs": [],
   "source": [
    "svm_ac = accuracy_score(svm_poly_pred,y_test)"
   ]
  },
  {
   "cell_type": "code",
   "execution_count": 9,
   "id": "b38ee4e9",
   "metadata": {},
   "outputs": [
    {
     "data": {
      "text/plain": [
       "0.8028398510242085"
      ]
     },
     "execution_count": 9,
     "metadata": {},
     "output_type": "execute_result"
    }
   ],
   "source": [
    "svm_ac"
   ]
  },
  {
   "cell_type": "code",
   "execution_count": null,
   "id": "909a7a58-ad38-4e0f-970d-d009699edc79",
   "metadata": {},
   "outputs": [],
   "source": []
  },
  {
   "cell_type": "code",
   "execution_count": null,
   "id": "6c9fb2ed-db75-4673-9d96-26226953123a",
   "metadata": {},
   "outputs": [],
   "source": []
  }
 ],
 "metadata": {
  "kernelspec": {
   "display_name": "Python 3 (ipykernel)",
   "language": "python",
   "name": "python3"
  },
  "language_info": {
   "codemirror_mode": {
    "name": "ipython",
    "version": 3
   },
   "file_extension": ".py",
   "mimetype": "text/x-python",
   "name": "python",
   "nbconvert_exporter": "python",
   "pygments_lexer": "ipython3",
   "version": "3.9.10"
  }
 },
 "nbformat": 4,
 "nbformat_minor": 5
}
